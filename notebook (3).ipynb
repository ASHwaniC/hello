{
  "cells": [
    {
      "metadata": {
        "_cell_guid": "86c8fa2b-79ab-4477-a34a-2c83d672c985",
        "_execution_state": "busy",
        "_uuid": "868cc1828e51d5704616b2e0121ca2772d311dcd",
        "collapsed": true,
        "trusted": true
      },
      "cell_type": "code",
      "source": "# This Python 3 environment comes with many helpful analytics libraries installed\n# It is defined by the kaggle/python docker image: https://github.com/kaggle/docker-python\n# For example, here's several helpful packages to load in \n\nimport numpy as np # linear algebra\nimport pandas as pd # data processing, CSV file I/O (e.g. pd.read_csv)\nfrom sklearn import svm\nfrom sklearn import datasets\nfrom sklearn.model_selection import train_test_split\nfrom sklearn.metrics import accuracy_score\nfrom sklearn.model_selection import cross_val_score\n\n# Input data files are available in the \"../input/\" directory.\n# For example, running this (by clicking run or pressing Shift+Enter) will list the files in the input directory\n\nfrom subprocess import check_output\nprint(check_output([\"ls\", \"../input\"]).decode(\"utf8\"))\n\n# Any results you write to the current directory are saved as output.",
      "execution_count": null,
      "outputs": []
    },
    {
      "metadata": {
        "_cell_guid": "34e44ffc-2676-4cad-9e89-64ddde92e276",
        "_execution_state": "busy",
        "_uuid": "43ec6794bca8b3b408a7270bc639893a30ac46ef",
        "collapsed": true,
        "trusted": true
      },
      "cell_type": "code",
      "source": "train_df= pd.read_csv('../input/train.csv')\nimages= train_df.iloc[0:5000,1:]\nlables= train_df.iloc[0:5000,:1]\ntrain_images, test_images, train_labels, test_labels = train_test_split(images,lables,train_size=0.8, random_state= 4)",
      "execution_count": null,
      "outputs": []
    },
    {
      "metadata": {
        "_cell_guid": "48f13526-14e4-403f-bce2-5f1b81c57d03",
        "_execution_state": "busy",
        "_uuid": "d505591972309b610632f65fe352b5934c942833",
        "collapsed": true,
        "trusted": true
      },
      "cell_type": "code",
      "source": "print (len(train_images))\nprint (len(test_images))\nprint (len(train_labels))\nprint (len(test_labels))",
      "execution_count": null,
      "outputs": []
    },
    {
      "metadata": {
        "_cell_guid": "443ce246-7f9e-43a8-be9b-53c5e76fff10",
        "_execution_state": "busy",
        "_uuid": "5cef61868fdea5d186f7d773e0cb2dafcad156e9",
        "collapsed": true,
        "trusted": true
      },
      "cell_type": "code",
      "source": "i=1\nimg=train_images.iloc[i].as_matrix()\nimg=img.reshape((28,28))",
      "execution_count": null,
      "outputs": []
    },
    {
      "metadata": {
        "_cell_guid": "632d20fd-3706-41bf-9504-b9fc96bfed2e",
        "_execution_state": "busy",
        "_uuid": "d2ba9a2ff90ad300326db6d9897d10fe369c8728",
        "collapsed": true,
        "trusted": true
      },
      "cell_type": "code",
      "source": "print (len(train_images))\nprint (len(test_images))\nprint (len(train_labels))\nprint (len(test_labels))",
      "execution_count": null,
      "outputs": []
    },
    {
      "metadata": {
        "_cell_guid": "c8570199-ebf8-4b04-937d-0ab8edd070f7",
        "_execution_state": "busy",
        "_uuid": "600eae5a47800ac1eca8454b9dc0253a498fc7c4",
        "collapsed": true,
        "trusted": true
      },
      "cell_type": "code",
      "source": "i=1\ntrain_images[train_images>0]=1\ntest_images[test_images>0]=1\nimg = train_images.iloc[i].as_matrix().reshape((28,28))",
      "execution_count": null,
      "outputs": []
    },
    {
      "metadata": {
        "_cell_guid": "508678a7-b4bb-42c5-a7d1-0a4db154783e",
        "_execution_state": "busy",
        "_uuid": "2ea776a241f2e490cd6dd9fba9a4ae501dae46eb",
        "collapsed": true,
        "trusted": true
      },
      "cell_type": "code",
      "source": "print (len(train_images))\nprint (len(test_images))\nprint (len(train_labels))\nprint (len(test_labels))",
      "execution_count": null,
      "outputs": []
    },
    {
      "metadata": {
        "_cell_guid": "9008416c-2d15-4132-bf07-b8048e474734",
        "_execution_state": "busy",
        "_uuid": "e06efa09c716d0a6f0f1020486f1f9240b2e3add",
        "collapsed": true,
        "scrolled": true,
        "trusted": true
      },
      "cell_type": "code",
      "source": "clf = svm.SVC(gamma= 0.1, kernel = 'poly',random_state=1,tol=0.0001,max_iter=-1)\nclf.fit(train_images, train_labels.values.ravel())\nclf.score(test_images,test_labels)",
      "execution_count": null,
      "outputs": []
    },
    {
      "metadata": {
        "trusted": true,
        "collapsed": true,
        "_uuid": "c7e184478b0d633c5cce74bfd6440dc257b4cf6b",
        "_execution_state": "busy"
      },
      "cell_type": "code",
      "source": "import cPickle as pickle\nimport os\nimport gzip\n\nimport numpy as np\nimport pandas as pd\nimport theano\n\nimport lasagne\nfrom lasagne import layers\nfrom lasagne.updates import nesterov_momentum\n\nfrom nolearn.lasagne import NeuralNet\nfrom nolearn.lasagne import visualize\n \nfrom sklearn.metrics import classification_report\nfrom sklearn.metrics import confusion_matrix\n",
      "execution_count": null,
      "outputs": []
    },
    {
      "metadata": {
        "trusted": true,
        "collapsed": true,
        "_uuid": "e7d7af2ea8634670e601ba82f2b2f53fc864098d",
        "_execution_state": "busy"
      },
      "cell_type": "code",
      "source": "net1 = NeuralNet(\n        layers= [('input', layers.InputLayer),\n                 ('conv2d1', layers.Conv2DLayer),\n                 ('maxpool1', layers.MaxPool2DLayer),\n                 ('conv2d2', layers.Conv2DLayer),\n                 ('maxpool2', layers.MaxPool2DLayer),\n                 ('dropout1', layers.DropoutLayer),\n                 ('dense', layers.DenseLayer),\n                 ('dropout2', layers.DropoutLayer),\n                 ('output', layers.DenseLayer),\n                ],\n    input_shape = (None,1,28,28),\n    \n    conv2d1_num_filters = 32,\n    conv2d1_filter_size = (5,5),\n    conv2d1_nonlinearity = lasagne.nonlinearities.rectify,\n    conv2d1_W = lasagne.init.GlorotUniform(),\n    \n    maxpool1_pool_size= (2,2),\n    \n    conv2d2_num_filters = 32,\n    conv2d2_filter_size = (5,5),\n    conv2d2_nonlinearity = lasagne.nonlinearities.rectify,\n    \n    maxpool2_pool_size= (2,2),\n    \n    dropout1_p = 0.5,\n    \n    dense_num_units = 256,\n    dense_nonlinearity = lasagne.nonlinearities.rectify,\n    \n    dropout2_p = 0.5,\n    \n    output_nonlinearity = lasagne.nonlinearities.softmax,\n    output_num_units = 10,\n    \n    update = nesterov_momentum,\n    update_learning_rate = 0.01,\n    update_momentum = 0.9,\n    max_epochs= 10,\n    verbose = 1,\n)\n    \n    ",
      "execution_count": null,
      "outputs": []
    },
    {
      "metadata": {
        "trusted": true,
        "collapsed": true,
        "_uuid": "a44e1d40ed35150796530ede3d780fe97be7891c",
        "_execution_state": "busy"
      },
      "cell_type": "code",
      "source": "nn = net1.fit(train_label,train_images)\npred = net1.predict(test_images)\ncm = confusion_matrix(test_labels,pred)",
      "execution_count": null,
      "outputs": []
    },
    {
      "metadata": {
        "_cell_guid": "db5d5bba-7bec-4b76-956e-4a984a05b8a3",
        "_execution_state": "busy",
        "_uuid": "87bdf5ed68007c09a864d01a87a95d7bc84acf40",
        "collapsed": true,
        "trusted": true
      },
      "cell_type": "code",
      "source": "from sklearn.ensemble import RandomForestClassifier\nrf = RandomForestClassifier(n_estimators=100,random_state=1,min_samples_split=4, min_samples_leaf=2)\nrf.fit(train_images,train_labels)\naccuracy=rf.score(test_labels, rf.predict(test_images))",
      "execution_count": null,
      "outputs": []
    },
    {
      "metadata": {
        "_cell_guid": "ad0a7981-7202-4bfd-9885-be3c4ce0451e",
        "_execution_state": "busy",
        "_uuid": "8e36afb1b5782faa9cd69878e7070a5dc30c3cde",
        "collapsed": true,
        "trusted": true
      },
      "cell_type": "code",
      "source": "test_df= pd.read_csv('../input/test.csv')\ntest_df[test_df>0]=1\npred=clf.predict[test_df]\naccuracy= accuracy_score(pred,)",
      "execution_count": null,
      "outputs": [
        {
          "output_type": "stream",
          "text": "test.csv\ntrain.csv\n\n",
          "name": "stdout"
        },
        {
          "output_type": "stream",
          "text": "/opt/conda/lib/python3.6/site-packages/sklearn/model_selection/_split.py:2010: FutureWarning: From version 0.21, test_size will always complement train_size unless both are specified.\n  FutureWarning)\n",
          "name": "stderr"
        },
        {
          "output_type": "stream",
          "text": "4000\n1000\n4000\n1000\n",
          "name": "stdout"
        },
        {
          "output_type": "stream",
          "text": "4000\n1000\n4000\n1000\n",
          "name": "stdout"
        },
        {
          "output_type": "stream",
          "text": "/opt/conda/lib/python3.6/site-packages/ipykernel_launcher.py:2: SettingWithCopyWarning: \nA value is trying to be set on a copy of a slice from a DataFrame.\nTry using .loc[row_indexer,col_indexer] = value instead\n\nSee the caveats in the documentation: http://pandas.pydata.org/pandas-docs/stable/indexing.html#indexing-view-versus-copy\n  \n/opt/conda/lib/python3.6/site-packages/pandas/core/frame.py:2464: SettingWithCopyWarning: \nA value is trying to be set on a copy of a slice from a DataFrame\n\nSee the caveats in the documentation: http://pandas.pydata.org/pandas-docs/stable/indexing.html#indexing-view-versus-copy\n  self._where(-key, value, inplace=True)\n/opt/conda/lib/python3.6/site-packages/ipykernel_launcher.py:3: SettingWithCopyWarning: \nA value is trying to be set on a copy of a slice from a DataFrame.\nTry using .loc[row_indexer,col_indexer] = value instead\n\nSee the caveats in the documentation: http://pandas.pydata.org/pandas-docs/stable/indexing.html#indexing-view-versus-copy\n  This is separate from the ipykernel package so we can avoid doing imports until\n",
          "name": "stderr"
        },
        {
          "output_type": "stream",
          "text": "4000\n1000\n4000\n1000\n",
          "name": "stdout"
        },
        {
          "output_type": "execute_result",
          "execution_count": 17,
          "data": {
            "text/plain": "0.95199999999999996"
          },
          "metadata": {}
        },
        {
          "output_type": "error",
          "ename": "ModuleNotFoundError",
          "evalue": "No module named 'cPickle'",
          "traceback": [
            "\u001b[0;31m---------------------------------------------------------------------------\u001b[0m",
            "\u001b[0;31mModuleNotFoundError\u001b[0m                       Traceback (most recent call last)",
            "\u001b[0;32m<ipython-input-18-842882074307>\u001b[0m in \u001b[0;36m<module>\u001b[0;34m()\u001b[0m\n\u001b[0;32m----> 1\u001b[0;31m \u001b[0;32mimport\u001b[0m \u001b[0mcPickle\u001b[0m \u001b[0;32mas\u001b[0m \u001b[0mpickle\u001b[0m\u001b[0;34m\u001b[0m\u001b[0m\n\u001b[0m\u001b[1;32m      2\u001b[0m \u001b[0;32mimport\u001b[0m \u001b[0mos\u001b[0m\u001b[0;34m\u001b[0m\u001b[0m\n\u001b[1;32m      3\u001b[0m \u001b[0;32mimport\u001b[0m \u001b[0mgzip\u001b[0m\u001b[0;34m\u001b[0m\u001b[0m\n\u001b[1;32m      4\u001b[0m \u001b[0;34m\u001b[0m\u001b[0m\n\u001b[1;32m      5\u001b[0m \u001b[0;32mimport\u001b[0m \u001b[0mnumpy\u001b[0m \u001b[0;32mas\u001b[0m \u001b[0mnp\u001b[0m\u001b[0;34m\u001b[0m\u001b[0m\n",
            "\u001b[0;31mModuleNotFoundError\u001b[0m: No module named 'cPickle'"
          ]
        }
      ]
    }
  ],
  "metadata": {
    "kernelspec": {
      "display_name": "Python 3",
      "language": "python",
      "name": "python3"
    },
    "language_info": {
      "name": "python",
      "version": "3.6.1",
      "mimetype": "text/x-python",
      "codemirror_mode": {
        "name": "ipython",
        "version": 3
      },
      "pygments_lexer": "ipython3",
      "nbconvert_exporter": "python",
      "file_extension": ".py"
    }
  },
  "nbformat": 4,
  "nbformat_minor": 1
}